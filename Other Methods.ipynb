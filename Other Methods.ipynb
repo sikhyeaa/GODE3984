{
 "cells": [
  {
   "cell_type": "markdown",
   "id": "3004c865-df90-4d39-8fc4-46d936c775c9",
   "metadata": {},
   "source": [
    "`from sklearn.neighbors import LocalOutlierFactor`"
   ]
  },
  {
   "cell_type": "markdown",
   "id": "c8fd20f7-a706-4845-8bf5-10d5c9f5a0a9",
   "metadata": {},
   "source": [
    "# LOF[@breunig2000lof]"
   ]
  },
  {
   "cell_type": "markdown",
   "id": "abf3c9a4-7da9-4f9f-b87a-f8981f5642ef",
   "metadata": {},
   "source": [
    "```python\n",
    "LocalOutlierFactor(\n",
    "    n_neighbors=20,\n",
    "    *,\n",
    "    algorithm='auto',\n",
    "    leaf_size=30,\n",
    "    metric='minkowski',\n",
    "    p=2,\n",
    "    metric_params=None,\n",
    "    contamination='auto',\n",
    "    novelty=False,\n",
    "    n_jobs=None,\n",
    ")\n",
    "```"
   ]
  },
  {
   "cell_type": "markdown",
   "id": "f1cdab97-890e-4a9d-bd7f-f2ae919070d3",
   "metadata": {},
   "source": [
    "|Parameter|Description|Default Value|\n",
    "|:--|:--|:--:|\n",
    "|n_neighbors|Number of neighbors to use by default for kneighbors queries. If n_neighbors is larger than the number of samples provided, all samples will be used.|20|\n",
    "|algorithm|Algorithm used to compute the nearest neighbors: <br>'ball_tree' will use BallTree <br>'kd_tree' will use KDTree <br>'brute' will use a brute-force search. <br>'auto' will attempt to decide the most appropriate algorithm based on the values passed to the fit method. Note: fitting on sparse input will override the setting of this parameter, using brute force.|'auto'|\n",
    "|leaf_size|Leaf is size passed to BallTree or KDTree. This can affect the speed of the construction and query, as well as the memory required to store the tree. The optimal value depends on the nature of the problem.|30|\n",
    "|metric|Metric to use for distance computation. Default is \"minkowski\", which results in the standard Euclidean distance when p = 2.|'minkowski'|\n",
    "|p|Parameter for the Minkowski metric from sklearn.metrics.pairwise.pairwise_distances. When p = 1, this is equivalent to using manhattan_distance (l1), and euclidean_distance (l2) for p = 2. For arbitrary p, minkowski_distance (l_p) is used.\t2\n",
    "|metric_params|Additional keyword arguments for the metric function.|None|\n",
    "|contamination|The amount of contamination of the data set, i.e. the proportion of outliers in the data set. When fitting, this is used to define the threshold on the scores of the samples.|'auto'|\n",
    "|novelty|By default, LocalOutlierFactor is only meant to be used for outlier detection (novelty=False). Set novelty to True if you want to use LocalOutlierFactor for novelty detection.|False|\n",
    "|n_jobs|The number of parallel jobs to run for neighbors search. None means 1 unless in a joblib.parallel_backend context. -1 means using all processors.|None|"
   ]
  },
  {
   "cell_type": "markdown",
   "id": "8fa8a0e5-303a-4030-aed3-485f4b881492",
   "metadata": {},
   "source": [
    "`from pyod.models.knn import KNN`"
   ]
  },
  {
   "cell_type": "markdown",
   "id": "dc7a4be1-48a8-4020-a40b-b9ee3e34a566",
   "metadata": {},
   "source": [
    "# kNN[@ramaswamy2000efficient]"
   ]
  },
  {
   "cell_type": "markdown",
   "id": "5bb85e44-3cf7-42ca-804b-a16ead91e501",
   "metadata": {},
   "source": [
    "```python\n",
    "KNN(\n",
    "    contamination=0.1,\n",
    "    n_neighbors=5,\n",
    "    method='largest',\n",
    "    radius=1.0,\n",
    "    algorithm='auto',\n",
    "    leaf_size=30,\n",
    "    metric='minkowski',\n",
    "    p=2,\n",
    "    metric_params=None,\n",
    "    n_jobs=1,\n",
    "    **kwargs,\n",
    ")\n",
    "```"
   ]
  },
  {
   "cell_type": "markdown",
   "id": "4920cad4-0dfb-4b29-8819-3a20d6c8bee7",
   "metadata": {},
   "source": [
    "|Parameter|Description|Default|\n",
    "|:--|:--|:--|\n",
    "|contamination|Proportion of outliers in the data set, used to define the threshold on the decision function.|0.1|\n",
    "|n_neighbors|Number of neighbors to use for k neighbors queries.|5|\n",
    "|method|Method for kNN detection: 'largest', 'mean', or 'median'.|'largest'|\n",
    "|radius|Range of parameter space for radius_neighbors queries.|1.0|\n",
    "|algorithm|Algorithm to compute nearest neighbors: 'auto', 'ball_tree', 'kd_tree', or 'brute'.|'auto'|\n",
    "|leaf_size|Leaf size passed to BallTree, affecting construction/query speed and memory.|30|\n",
    "|metric|Metric for distance computation, from scikit-learn or scipy.spatial.distance.|'minkowski'|\n",
    "|p|Parameter for Minkowski metric, equivalent to manhattan_distance (l1) for p = 1 and euclidean_distance (l2) for p = 2.|2|\n",
    "|metric_params|Additional keyword arguments for the metric function.|None|\n",
    "|n_jobs|Number of parallel jobs for neighbors search. -1 uses CPU cores.|1|"
   ]
  },
  {
   "cell_type": "markdown",
   "id": "42f8f36f-1566-43d8-a1fe-cacca7ab5088",
   "metadata": {},
   "source": [
    "`from pyod.models.cblof import CBLOF`"
   ]
  },
  {
   "cell_type": "markdown",
   "id": "9dfa104f-8e48-4772-adf7-95deb17ea6f8",
   "metadata": {},
   "source": [
    "# CBLOF[@he2003discovering]"
   ]
  },
  {
   "cell_type": "markdown",
   "id": "b2959537-eade-4e0f-9e2b-5d5d6644d5ef",
   "metadata": {},
   "source": [
    "```python\n",
    "CBLOF(\n",
    "    n_clusters=8,\n",
    "    contamination=0.1,\n",
    "    clustering_estimator=None,\n",
    "    alpha=0.9,\n",
    "    beta=5,\n",
    "    use_weights=False,\n",
    "    check_estimator=False,\n",
    "    random_state=None,\n",
    "    n_jobs=1,\n",
    ")\n",
    "```"
   ]
  },
  {
   "cell_type": "markdown",
   "id": "a12297df-ec6d-44c1-81aa-462537a5174e",
   "metadata": {},
   "source": [
    "|Parameter|Description|Default|\n",
    "|:--|:--|:--|\n",
    "|n_clusters|Number of clusters to form and centroids to generate.|8|\n",
    "|contamination|Amount of contamination in the data set, proportion of outliers. Used to define threshold.|0.1|\n",
    "|clustering_estimator|Base clustering algorithm for data clustering. Requires fit() and predict(). Default is KMeans.|None|\n",
    "|alpha|Coefficient for deciding small and large clusters.|0.9|\n",
    "|beta|Coefficient for deciding small and large clusters.|5|\n",
    "|use_weights|Use cluster sizes as weights in outlier score calculation.|False|\n",
    "|check_estimator|Check if base estimator is consistent with sklearn standard.|False|\n",
    "|random_state|Seed for random number generator.|None|"
   ]
  },
  {
   "cell_type": "markdown",
   "id": "27a08eb7-4d25-4009-a564-22d6264c41fc",
   "metadata": {},
   "source": [
    "`from sklearn import svm`"
   ]
  },
  {
   "cell_type": "markdown",
   "id": "d7fc94f6-4cc5-43a2-b6ec-59b409d833d9",
   "metadata": {},
   "source": [
    "# OCSVM@manevitz2001one]"
   ]
  },
  {
   "cell_type": "markdown",
   "id": "3d7f9751-0258-44c5-9817-fc251722d051",
   "metadata": {},
   "source": [
    "```python\n",
    "svm.OneClassSVM(\n",
    "    *,\n",
    "    kernel='rbf',\n",
    "    degree=3,\n",
    "    gamma='scale',\n",
    "    coef0=0.0,\n",
    "    tol=0.001,\n",
    "    nu=0.5,\n",
    "    shrinking=True,\n",
    "    cache_size=200,\n",
    "    verbose=False,\n",
    "    max_iter=-1,\n",
    ")\n",
    "```"
   ]
  },
  {
   "cell_type": "markdown",
   "id": "873ca10d-9355-42e1-aec3-4014bef00056",
   "metadata": {},
   "source": [
    "| Parameter   | Description                                                                                                                         | Default        |\n",
    "|:-----------:|:-----------------------------------------------------------------------------------------------------------------------------------:|:--------------:|\n",
    "| kernel      | Specifies the kernel type to be used in the algorithm. Options: 'linear', 'poly', 'rbf', 'sigmoid', 'precomputed'. Default: 'rbf'.   | 'rbf'          |\n",
    "| degree      | Degree of the polynomial kernel function ('poly'). Non-negative. Ignored by other kernels.                                      | 3              |\n",
    "| gamma       | Kernel coefficient for 'rbf', 'poly', and 'sigmoid'. 'scale' (default), 'auto', or a non-negative float.                        | 'scale'        |\n",
    "| coef0       | Independent term in kernel function. Significant in 'poly' and 'sigmoid'.                                                        | 0.0            |\n",
    "| tol         | Tolerance for stopping criterion.                                                                                                | 1e-3           |\n",
    "| nu          | Upper bound on fraction of training errors and lower bound of fraction of support vectors. (0, 1] by default.                 | 0.5            |\n",
    "| shrinking   | Whether to use the shrinking heuristic.                                                                                          | True           |\n",
    "| cache_size  | Size of the kernel cache (in MB).                                                                                                | 200            |\n",
    "| verbose     | Enable verbose output. May not work well in multithreaded contexts.                                                              | False          |\n",
    "| max_iter    | Hard limit on solver iterations. -1 for no limit.                                                                                | -1             |\n"
   ]
  },
  {
   "cell_type": "markdown",
   "id": "b59264b6-c4d8-43fd-914e-5caf7f7a67d7",
   "metadata": {},
   "source": [
    "`from pyod.models.mcd import MCD`"
   ]
  },
  {
   "cell_type": "markdown",
   "id": "f73df335-a51e-4373-8172-c7d560cbb99e",
   "metadata": {},
   "source": [
    "# MCD[@hardin2004outlier]"
   ]
  },
  {
   "cell_type": "markdown",
   "id": "58816123-b071-4541-b614-d7d4907c08e1",
   "metadata": {},
   "source": [
    "```python\n",
    "MCD(\n",
    "    contamination=0.1,\n",
    "    store_precision=True,\n",
    "    assume_centered=False,\n",
    "    support_fraction=None,\n",
    "    random_state=None,\n",
    ")\n",
    "```"
   ]
  },
  {
   "cell_type": "markdown",
   "id": "50684741-594a-461a-a879-1eac0519112e",
   "metadata": {},
   "source": [
    "| Parameter          | Description                                                                                     | Default   |\n",
    "|:------------------:|:-----------------------------------------------------------------------------------------------:|:---------:|\n",
    "| contamination      | float in (0., 0.5), optional (default=0.1) The amount of contamination of the data set, i.e. the proportion of outliers in the data set. Used when fitting to define the threshold on the decision function. | 0.1       |\n",
    "| store_precision   | bool Specify if the estimated precision is stored.                                           | True       |\n",
    "| assume_centered   | bool If True, the support of the robust location and the covariance estimates is computed, and a covariance estimate is recomputed from it, without centering the data. Useful to work with data whose mean is significantly equal to zero but is not exactly zero. If False, the robust location and covariance are directly computed with the FastMCD algorithm without additional treatment. | False       |\n",
    "| support_fraction  | float, 0 < support_fraction < 1 The proportion of points to be included in the support of the raw MCD estimate. Default is None, which implies that the minimum value of support_fraction will be used within the algorithm: [n_sample + n_features + 1] / 2 | None         |\n",
    "| random_state      | int, RandomState instance or None, optional (default=None) If int, random_state is the seed used by the random number generator; If RandomState instance, random_state is the random number generator; If None, the random number generator is the RandomState instance used by np.random. | None      |\n"
   ]
  },
  {
   "cell_type": "markdown",
   "id": "e7ee7453-44a4-4629-affe-b094ff1eea99",
   "metadata": {},
   "source": [
    "`from pyod.models.feature_bagging import FeatureBagging`from pyod.models.feature_bagging import FeatureBagging"
   ]
  },
  {
   "cell_type": "markdown",
   "id": "19e2f4b6-0293-4ccf-9b75-2dd266a323b8",
   "metadata": {},
   "source": [
    "# FeatureBagging[@lazarevic2005feature]"
   ]
  },
  {
   "cell_type": "markdown",
   "id": "a8ba5a5c-b245-4e1f-9eed-019808014323",
   "metadata": {},
   "source": [
    "```python\n",
    "FeatureBagging(\n",
    "    base_estimator=None,\n",
    "    n_estimators=10,\n",
    "    contamination=0.1,\n",
    "    max_features=1.0,\n",
    "    bootstrap_features=False,\n",
    "    check_detector=True,\n",
    "    check_estimator=False,\n",
    "    n_jobs=1,\n",
    "    random_state=None,\n",
    "    combination='average',\n",
    "    verbose=0,\n",
    "    estimator_params=None,\n",
    ")\n",
    "```"
   ]
  },
  {
   "cell_type": "markdown",
   "id": "b4ee29f9-8518-4e02-a004-9580575af3e0",
   "metadata": {},
   "source": [
    "| Parameter             | Description                                                                                     | Default         |\n",
    "|:---------------------:|:-----------------------------------------------------------------------------------------------:|:---------------:|\n",
    "| base_estimator       | The base estimator to fit on random subsets of the dataset. If None, base estimator is LOF detector. | None            |\n",
    "| n_estimators         | The number of base estimators in the ensemble.                                                 | 10              |\n",
    "| contamination        | Amount of contamination in the data set, proportion of outliers. Used to define threshold.    | 0.1             |\n",
    "| max_features         | Number of features to draw from X to train each base estimator.                              | 1.0             |\n",
    "| bootstrap_features   | Whether features are drawn with replacement.                                                  | False           |\n",
    "| check_detector       | If True, check if base estimator is consistent with pyod standard.                           | True            |\n",
    "| check_estimator      | If True, check if base estimator is consistent with sklearn standard. Deprecated in pyod 0.6.9. Replaced by check_detector. | False |\n",
    "| n_jobs               | Number of jobs to run in parallel for both fit and predict.                                   | 1               |\n",
    "| random_state         | Seed used by random number generator.                                                        | None            |\n",
    "| combination          | Method of combination: 'average' for average scores, 'max' for maximum scores.                | 'average'       |\n",
    "| verbose              | Controls the verbosity of the building process.                                               | 0               |\n",
    "| estimator_params     | List of attributes to use as parameters when instantiating a new base estimator.              | None            |\n"
   ]
  },
  {
   "cell_type": "markdown",
   "id": "7428c232-caf4-41df-aa14-cf570b24c728",
   "metadata": {},
   "source": [
    "`from pyod.models.abod import ABOD`"
   ]
  },
  {
   "cell_type": "markdown",
   "id": "1aa37376-9adf-47c3-b3ad-f96d0bf11259",
   "metadata": {},
   "source": [
    "# ABOD[@kriegel2008angle]"
   ]
  },
  {
   "cell_type": "markdown",
   "id": "a939cb56-cbf2-4b19-bcde-6ef60ff8b6fc",
   "metadata": {},
   "source": [
    "```python\n",
    "ABOD(contamination=0.1, n_neighbors=5, method='fast')\n",
    "```"
   ]
  },
  {
   "cell_type": "markdown",
   "id": "0d2f12c9-a8b6-4064-838b-9db68acc6cc2",
   "metadata": {},
   "source": [
    "| Parameter       | Description                                                                                     | Default        |\n",
    "|:---------------:|:-----------------------------------------------------------------------------------------------:|:--------------:|\n",
    "| contamination   | float in (0., 0.5), optional (default=0.1) The amount of contamination of the data set, i.e. the proportion of outliers in the data set. Used when fitting to define the threshold on the decision function. | 0.1            |\n",
    "| n_neighbors     | int, optional (default=10) Number of neighbors to use by default for k neighbors queries.    | 10             |\n",
    "| method          | str, optional (default='fast') Method for ABOD: 'fast' for fast ABOD using n_neighbors only, 'default' for original ABOD using all training points (could be slower). | 'fast'         |"
   ]
  },
  {
   "cell_type": "markdown",
   "id": "0c7e12ba-6f6a-43af-ae6a-bb09e27c9e29",
   "metadata": {},
   "source": [
    "`from alibi_detect.od import IForest`"
   ]
  },
  {
   "cell_type": "markdown",
   "id": "1f3c3325-a996-479b-95f5-d051a3b72212",
   "metadata": {},
   "source": [
    "# IForest[@liu2008isolation]"
   ]
  },
  {
   "cell_type": "markdown",
   "id": "557068e4-09e4-4865-9a3e-bcf642054949",
   "metadata": {},
   "source": [
    "```python\n",
    "IForest(\n",
    "    threshold: float = None,\n",
    "    n_estimators: int = 100,\n",
    "    max_samples: Union[str, int, float] = 'auto',\n",
    "    max_features: Union[int, float] = 1.0,\n",
    "    bootstrap: bool = False,\n",
    "    n_jobs: int = 1,\n",
    "    data_type: str = 'tabular',\n",
    ")\n",
    "```"
   ]
  },
  {
   "cell_type": "markdown",
   "id": "8b23df6c-8f91-4c82-9602-a5dbd98bef38",
   "metadata": {},
   "source": [
    "| Parameter      | Description                                                                                                           | Default  |\n",
    "|:--------------:|:---------------------------------------------------------------------------------------------------------------------:|:--------:|\n",
    "| threshold      | Threshold used for outlier score to determine outliers.                                                             | None    |\n",
    "| n_estimators   | Number of base estimators in the ensemble.                                                                          | 100     |\n",
    "| max_samples    | Number of samples to draw from training data to train each base estimator.  If int, draw 'max_samples' samples.   If float, draw 'max_samples * number of features' samples.If 'auto', max_samples = min(256, number of samples).     | auto      |\n",
    "| max_features   | Number of features to draw from training data to train each base estimator.  If int, draw 'max_features' features.  If float, draw 'max_features * number of features' features.                                      | 1.0        |\n",
    "| bootstrap      | Whether to fit individual trees on random subsets of the training data, sampled with replacement.                 | False       |\n",
    "| n_jobs         | Number of jobs to run in parallel for 'fit' and 'predict'.                                                         | 1        |\n",
    "| data_type      | Optionally specify the data type (tabular, image, or time-series). Added to metadata.                           | tabular       |\n"
   ]
  },
  {
   "cell_type": "markdown",
   "id": "0d9a7847-3fc2-4a8e-b159-1290118738d1",
   "metadata": {},
   "source": [
    "`from pyod.models.hbos import HBOS`"
   ]
  },
  {
   "cell_type": "markdown",
   "id": "dc128bb4-9a2b-48a1-ae32-f0d04bfc99e8",
   "metadata": {},
   "source": [
    "# HBOS[@goldstein2012histogram]"
   ]
  },
  {
   "cell_type": "markdown",
   "id": "9c6aed3c-eaf8-4d6e-a7ad-5699dac7fdd0",
   "metadata": {},
   "source": [
    "```python\n",
    "HBOS(n_bins=10, alpha=0.1, tol=0.5, contamination=0.1)\n",
    "```"
   ]
  },
  {
   "cell_type": "markdown",
   "id": "81c9a1cc-c4c6-40f5-8aa2-a99be2ef56d0",
   "metadata": {},
   "source": [
    "| Parameter       | Description                                                                                                                      | Default  |\n",
    "|:---------------:|:--------------------------------------------------------------------------------------------------------------------------------:|:--------:|\n",
    "| n_bins          | int or string, optional (default=10) The number of bins. \"auto\" uses the birge-rozenblac method for automatic selection of the optimal number of bins for each feature. | 10       |\n",
    "| alpha           | float in (0, 1), optional (default=0.1) The regularizer for preventing overflow.                                               | 0.1      |\n",
    "| tol             | float in (0, 1), optional (default=0.5) The parameter to decide the flexibility while dealing the samples falling outside the bins. | 0.5      |\n",
    "| contamination   | float in (0., 0.5), optional (default=0.1) The amount of contamination of the data set, i.e. the proportion of outliers in the data set. Used when fitting to define the threshold on the decision function. | 0.1      |"
   ]
  },
  {
   "cell_type": "markdown",
   "id": "9a79d619-34db-4085-bd10-8e0a1e31d2da",
   "metadata": {},
   "source": [
    "`from pyod.models.sos import SOS`"
   ]
  },
  {
   "cell_type": "markdown",
   "id": "8fc64334-3a6d-4fec-9b45-64fec30f20da",
   "metadata": {},
   "source": [
    "# SOS[@janssens2012stochastic]"
   ]
  },
  {
   "cell_type": "markdown",
   "id": "834378b9-6eae-42e1-b936-ad70662eeb97",
   "metadata": {},
   "source": [
    "```python\n",
    "SOS(contamination=0.1, perplexity=4.5, metric='euclidean', eps=1e-05)\n",
    "```"
   ]
  },
  {
   "cell_type": "markdown",
   "id": "9af82f17-4d95-4863-a6f5-3688c0a8a954",
   "metadata": {},
   "source": [
    "| Parameter       | Description                                                                                                                      | Default  |\n",
    "|:---------------:|:--------------------------------------------------------------------------------------------------------------------------------:|:--------:|\n",
    "| contamination   | float in (0., 0.5), optional (default=0.1) The amount of contamination of the data set, i.e. the proportion of outliers in the data set. Used when fitting to define the threshold on the decision function. | 0.1      |\n",
    "| perplexity      | float, optional (default=4.5) A smooth measure of the effective number of neighbors. Perplexity is similar to parameter `k` in kNN algorithm (number of nearest neighbors). Perplexity range: 1 to n-1, where `n` is number of samples. | 4.5      |\n",
    "| metric          | str, default 'euclidean' Metric used for distance computation. Can use any metric from scipy.spatial.distance. Valid values: 'euclidean', ['braycurtis', 'canberra', 'chebyshev', ...]. See scipy.spatial.distance documentation for details. | 'euclidean' |\n",
    "| eps             | float, optional (default=1e-5) Tolerance threshold for floating point errors.                                                 | 1e-5     |"
   ]
  },
  {
   "cell_type": "markdown",
   "id": "76698780-d152-4550-a6a4-e96fb054f414",
   "metadata": {},
   "source": [
    "`from pyod.models.so_gaal import SO_GAAL`"
   ]
  },
  {
   "cell_type": "markdown",
   "id": "8f3a651b-e290-4f32-b019-03e3b235332f",
   "metadata": {},
   "source": [
    "# SO_GAAL[@liu2019generative]"
   ]
  },
  {
   "cell_type": "markdown",
   "id": "fef72908-74c7-4cfd-a3ed-0c7dd51994b8",
   "metadata": {},
   "source": [
    "```python\n",
    "SO_GAAL(\n",
    "    stop_epochs=20,\n",
    "    lr_d=0.01,\n",
    "    lr_g=0.0001,\n",
    "    momentum=0.9,\n",
    "    contamination=0.1,\n",
    ")\n",
    "```"
   ]
  },
  {
   "cell_type": "markdown",
   "id": "ec431a49-d78d-4f7c-82c5-6bf4f9792cd6",
   "metadata": {},
   "source": [
    "| Parameter       | Description                                                                                      | Default  |\n",
    "|:---------------:|:------------------------------------------------------------------------------------------------:|:--------:|\n",
    "| contamination   | float in (0., 0.5), optional (default=0.1) The amount of contamination of the data set, i.e. the proportion of outliers in the data set. Used when fitting to define the threshold on the decision function. | 0.1      |\n",
    "| stop_epochs    | int, optional (default=20) The number of epochs of training. Total epochs equals three times stop_epochs. | 20       |\n",
    "| lr_d           | float, optional (default=0.01) The learn rate of the discriminator.                              | 0.01     |\n",
    "| lr_g           | float, optional (default=0.0001) The learn rate of the generator.                                | 0.0001   |\n",
    "| momentum       | float, optional (default=0.9) The momentum parameter for SGD.                                    | 0.9      |"
   ]
  },
  {
   "cell_type": "markdown",
   "id": "65d672bd-a368-4662-ac98-664d48a1882f",
   "metadata": {},
   "source": [
    "`from pyod.models.mo_gaal import MO_GAAL`"
   ]
  },
  {
   "cell_type": "markdown",
   "id": "123fe028-3ce8-46bc-aac0-722d3c1bf22c",
   "metadata": {},
   "source": [
    "# MO_GAAL[@liu2019generative]"
   ]
  },
  {
   "cell_type": "markdown",
   "id": "bd0e0114-58cf-4d96-af3b-95a07edc44fe",
   "metadata": {},
   "source": [
    "```python\n",
    "MO_GAAL(\n",
    "    k=10,\n",
    "    stop_epochs=20,\n",
    "    lr_d=0.01,\n",
    "    lr_g=0.0001,\n",
    "    momentum=0.9,\n",
    "    contamination=0.1,\n",
    ")\n",
    "```"
   ]
  },
  {
   "cell_type": "markdown",
   "id": "ccf40d28-d6e2-44e8-a237-a4e1ea3a8404",
   "metadata": {},
   "source": [
    "| Parameter       | Description                                                                                      | Default  |\n",
    "|:---------------:|:------------------------------------------------------------------------------------------------:|:--------:|\n",
    "| contamination   | float in (0., 0.5), optional (default=0.1) The amount of contamination of the data set, i.e. the proportion of outliers in the data set. Used when fitting to define the threshold on the decision function. | 0.1      |\n",
    "| k               | int, optional (default=10) The number of sub generators.                                        | 10       |\n",
    "| stop_epochs    | int, optional (default=20) The number of epochs of training. Total epochs equals three times stop_epochs. | 20       |\n",
    "| lr_d           | float, optional (default=0.01) The learn rate of the discriminator.                              | 0.01     |\n",
    "| lr_g           | float, optional (default=0.0001) The learn rate of the generator.                                | 0.0001   |\n",
    "| momentum       | float, optional (default=0.9) The momentum parameter for SGD.                                    | 0.9      |"
   ]
  },
  {
   "cell_type": "markdown",
   "id": "e3d342db-609c-48a5-a93a-52426551b677",
   "metadata": {},
   "source": [
    "`from pyod.models.lscp import LSCP`"
   ]
  },
  {
   "cell_type": "markdown",
   "id": "b94e4e79-2986-4259-96d1-b93d3c0988df",
   "metadata": {},
   "source": [
    "# LSCP[@zhao2019lscp]"
   ]
  },
  {
   "cell_type": "markdown",
   "id": "ec0e4789-9bab-4786-a80a-62f9ec07d137",
   "metadata": {},
   "source": [
    "```python\n",
    "LSCP(\n",
    "    detector_list,\n",
    "    local_region_size=30,\n",
    "    local_max_features=1.0,\n",
    "    n_bins=10,\n",
    "    random_state=None,\n",
    "    contamination=0.1,\n",
    ")\n",
    "```"
   ]
  },
  {
   "cell_type": "markdown",
   "id": "d918365c-e065-4f1b-9b4f-793383918b39",
   "metadata": {},
   "source": [
    "| Parameter           | Description                                                                                      | Default  |\n",
    "|:-------------------:|:------------------------------------------------------------------------------------------------:|:--------:|\n",
    "| detector_list       | List, length must be greater than 1 Base unsupervised outlier detectors from PyOD. Requires fit and decision_function methods. | -        |\n",
    "| local_region_size   | int, optional (default=30) Number of training points to consider in each iteration of local region generation process (30 by default). | 30       |\n",
    "| local_max_features  | float in (0.5, 1.), optional (default=1.0) Maximum proportion of number of features to consider when defining local region (1.0 by default). | 1.0      |\n",
    "| n_bins              | int, optional (default=10) Number of bins to use when selecting the local region.                 | 10       |\n",
    "| random_state        | RandomState, optional (default=None) A random number generator instance to define the state of the random permutations generator. | None     |\n",
    "| contamination       | float in (0., 0.5), optional (default=0.1) The amount of contamination of the data set, i.e. the proportion of outliers in the data set. Used when fitting to define the threshold on the decision function (0.1 by default). | 0.1      |"
   ]
  }
 ],
 "metadata": {
  "kernelspec": {
   "display_name": "Python 3",
   "language": "python",
   "name": "python3"
  },
  "language_info": {
   "codemirror_mode": {
    "name": "ipython",
    "version": 3
   },
   "file_extension": ".py",
   "mimetype": "text/x-python",
   "name": "python",
   "nbconvert_exporter": "python",
   "pygments_lexer": "ipython3",
   "version": "3.8.0"
  }
 },
 "nbformat": 4,
 "nbformat_minor": 5
}
